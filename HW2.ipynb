{
 "cells": [
  {
   "cell_type": "code",
   "execution_count": 1,
   "metadata": {
    "collapsed": true
   },
   "outputs": [],
   "source": [
    "import pandas as pd\n",
    "import os\n",
    "import numpy as np"
   ]
  },
  {
   "cell_type": "code",
   "execution_count": 2,
   "outputs": [],
   "source": [
    "data_dir = \"kkbox-music-recommendation-challenge\""
   ],
   "metadata": {
    "collapsed": false,
    "pycharm": {
     "name": "#%%\n"
    }
   }
  },
  {
   "cell_type": "markdown",
   "source": [
    "Создаем DF"
   ],
   "metadata": {
    "collapsed": false,
    "pycharm": {
     "name": "#%% md\n"
    }
   }
  },
  {
   "cell_type": "code",
   "execution_count": 3,
   "outputs": [],
   "source": [
    "train_columns = {\n",
    "  'msno': 'category',\n",
    "  'song_id': 'category',\n",
    "  'source_system_tab': 'category',\n",
    "  'source_screen_name': 'category',\n",
    "  'source_type': 'category',\n",
    "  'target': np.uint8,\n",
    "}\n",
    "\n",
    "train_df = pd.read_csv(os.path.join(data_dir, 'train.csv'), dtype=train_columns)"
   ],
   "metadata": {
    "collapsed": false,
    "pycharm": {
     "name": "#%%\n"
    }
   }
  },
  {
   "cell_type": "code",
   "execution_count": 4,
   "outputs": [],
   "source": [
    "train_df.source_system_tab = train_df.source_system_tab.cat.add_categories('<UNK>').fillna('<UNK>')\n",
    "train_df.source_screen_name = train_df.source_screen_name.cat.add_categories('<UNK>').fillna('<UNK>')\n",
    "train_df.source_type = train_df.source_type.cat.add_categories('<UNK>').fillna('<UNK>')"
   ],
   "metadata": {
    "collapsed": false,
    "pycharm": {
     "name": "#%%\n"
    }
   }
  },
  {
   "cell_type": "code",
   "execution_count": 5,
   "outputs": [
    {
     "data": {
      "text/plain": "msno                  category\nsong_id               category\nsource_system_tab     category\nsource_screen_name    category\nsource_type           category\ntarget                   uint8\ndtype: object"
     },
     "execution_count": 5,
     "metadata": {},
     "output_type": "execute_result"
    }
   ],
   "source": [
    "train_df.dtypes"
   ],
   "metadata": {
    "collapsed": false,
    "pycharm": {
     "name": "#%%\n"
    }
   }
  },
  {
   "cell_type": "code",
   "execution_count": 6,
   "outputs": [],
   "source": [
    "songs_columns = {\n",
    "  'song_id': 'category',\n",
    "  'song_length': np.int32,\n",
    "  'genre_ids': 'category',\n",
    "  'artist_name': 'category',\n",
    "  'composer': 'category',\n",
    "  'lyricist': 'category',\n",
    "  'language': 'category',\n",
    "}\n",
    "\n",
    "songs_df = pd.read_csv(os.path.join(data_dir, 'songs.csv'), dtype=songs_columns)"
   ],
   "metadata": {
    "collapsed": false,
    "pycharm": {
     "name": "#%%\n"
    }
   }
  },
  {
   "cell_type": "code",
   "execution_count": 7,
   "outputs": [],
   "source": [
    "songs_df.genre_ids = songs_df.genre_ids.cat.add_categories('<UNK>').fillna('<UNK>')\n",
    "songs_df.artist_name = songs_df.artist_name.cat.add_categories('<UNK>').fillna('<UNK>')\n",
    "songs_df.composer = songs_df.composer.cat.add_categories('<UNK>').fillna('<UNK>')\n",
    "songs_df.lyricist = songs_df.lyricist.cat.add_categories('<UNK>').fillna('<UNK>')"
   ],
   "metadata": {
    "collapsed": false,
    "pycharm": {
     "name": "#%%\n"
    }
   }
  },
  {
   "cell_type": "code",
   "execution_count": 8,
   "outputs": [
    {
     "data": {
      "text/plain": "song_id        category\nsong_length       int32\ngenre_ids      category\nartist_name    category\ncomposer       category\nlyricist       category\nlanguage       category\ndtype: object"
     },
     "execution_count": 8,
     "metadata": {},
     "output_type": "execute_result"
    }
   ],
   "source": [
    "songs_df.dtypes"
   ],
   "metadata": {
    "collapsed": false,
    "pycharm": {
     "name": "#%%\n"
    }
   }
  },
  {
   "cell_type": "code",
   "execution_count": 9,
   "outputs": [],
   "source": [
    "song_extra_info_columns = {\n",
    "  'song_id': 'category',\n",
    "  'name': 'category',\n",
    "  'isrc': 'category',\n",
    "}\n",
    "\n",
    "song_extra_info_df = pd.read_csv(os.path.join(data_dir, 'song_extra_info.csv'), dtype=song_extra_info_columns)\n"
   ],
   "metadata": {
    "collapsed": false,
    "pycharm": {
     "name": "#%%\n"
    }
   }
  },
  {
   "cell_type": "code",
   "execution_count": 10,
   "outputs": [],
   "source": [
    "song_extra_info_df.isrc = song_extra_info_df.isrc.cat.add_categories('<UNK>').fillna('<UNK>')"
   ],
   "metadata": {
    "collapsed": false,
    "pycharm": {
     "name": "#%%\n"
    }
   }
  },
  {
   "cell_type": "code",
   "execution_count": 11,
   "outputs": [],
   "source": [
    "def isrc_to_year(isrc):\n",
    "  if isrc == '<UNK>':\n",
    "    return '<UNK>'\n",
    "  else:\n",
    "    if int(isrc[5:7]) > 17:\n",
    "      return 1900 + int(isrc[5:7])\n",
    "    else:\n",
    "      return 2000 + int(isrc[5:7])\n",
    "\n",
    "def isrc_to_country(isrc):\n",
    "  if isrc == '<UNK>':\n",
    "    return '<UNK>'\n",
    "  else:\n",
    "    return isrc[:2]"
   ],
   "metadata": {
    "collapsed": false,
    "pycharm": {
     "name": "#%%\n"
    }
   }
  },
  {
   "cell_type": "code",
   "execution_count": 12,
   "outputs": [],
   "source": [
    "song_extra_info_df['song_year'] = song_extra_info_df['isrc'].apply(isrc_to_year).astype(\"category\")\n",
    "song_extra_info_df['song_country'] = song_extra_info_df['isrc'].apply(isrc_to_country).astype(\"category\")\n",
    "\n",
    "song_extra_info_df.drop(['isrc', 'name'], axis=1, inplace=True)"
   ],
   "metadata": {
    "collapsed": false,
    "pycharm": {
     "name": "#%%\n"
    }
   }
  },
  {
   "cell_type": "code",
   "execution_count": 13,
   "outputs": [
    {
     "data": {
      "text/plain": "song_id         category\nsong_year       category\nsong_country    category\ndtype: object"
     },
     "execution_count": 13,
     "metadata": {},
     "output_type": "execute_result"
    }
   ],
   "source": [
    "song_extra_info_df.dtypes"
   ],
   "metadata": {
    "collapsed": false,
    "pycharm": {
     "name": "#%%\n"
    }
   }
  },
  {
   "cell_type": "code",
   "execution_count": 14,
   "outputs": [],
   "source": [
    "members_columns = {\n",
    "  'msno': 'category',\n",
    "  'city': 'category',\n",
    "  'bd': np.uint8,\n",
    "  'gender': 'category',\n",
    "  'registered_via': 'category',\n",
    "  'registration_init_time': str,\n",
    "  'expiration_date': str,\n",
    "}\n",
    "\n",
    "members_df = pd.read_csv(os.path.join(data_dir, 'members.csv'), dtype=members_columns)"
   ],
   "metadata": {
    "collapsed": false,
    "pycharm": {
     "name": "#%%\n"
    }
   }
  },
  {
   "cell_type": "code",
   "execution_count": 15,
   "outputs": [],
   "source": [
    "members_df.gender = members_df.gender.cat.add_categories('<UNK>').fillna('<UNK>')"
   ],
   "metadata": {
    "collapsed": false,
    "pycharm": {
     "name": "#%%\n"
    }
   }
  },
  {
   "cell_type": "code",
   "execution_count": 16,
   "outputs": [
    {
     "data": {
      "text/plain": "                                            msno city  bd  gender  \\\n0   XQxgAYj3klVKjR3oxPPXYYFp4soD4TuBghkhMTD4oTw=    1   0   <UNK>   \n1   UizsfmJb9mV54qE9hCYyU07Va97c0lCRLEQX3ae+ztM=    1   0   <UNK>   \n2   D8nEhsIOBSoE6VthTaqDX8U6lqjJ7dLdr72mOyLya2A=    1   0   <UNK>   \n3   mCuD+tZ1hERA/o5GPqk38e041J8ZsBaLcu7nGoIIvhI=    1   0   <UNK>   \n4   q4HRBfVSssAFS9iRfxWrohxuk9kCYMKjHOEagUMV6rQ=    1   0   <UNK>   \n5   zgPOEyUn5a/Fvuzb3m69ajzxjkbblVtObglW89FzLdo=   13  43  female   \n6   Sw9AT8QoR4wWiNUqHZUH6g5ahzGUx4lo1g+Y3xE2f2M=    1   0   <UNK>   \n7   pg6bT2XZkSP1TDBy4qn3HBPY/HffKQ/bg8WIISQYBSY=    1   0   <UNK>   \n8   kfk1AdTNH2dNqF5LzIs4e0vwGPejw2jrnFjJlcYnEgk=    1   0   <UNK>   \n9   tscijwx4dbEp0NXGl+iFtHJ8zrj+TkcMrduOQk9t+gE=    1   0   <UNK>   \n10  GoFYKhcq8Q5Gjz1M5L0azHZOhcY+Za/T7fRqIGgBuYA=   12  28    male   \n11  Hiw71XZQSoEe1I7pBhPWi3kIrP7Ss7pwExZgtqFmtYw=    1   0   <UNK>   \n12  V6QgFYHgsfZ2G6hFz1z2u3RrLt5BoLsZKBr+h0ZnFsA=    1   0   <UNK>   \n13  RoSfblbwJN/izEnFIVw8TgOpm8R/NEpUC84Oz/b32HQ=   15  33  female   \n14  N+dxmo1qvkKAlzYtcxGzjrqcpVyX9J7AMlXFuYASKuY=    1   0   <UNK>   \n15  vUzJAyFEudsnkWwfcLIKT5mJAV+uVRTW2uajCrghFwI=   13  20    male   \n16  Ev+ouoRTpAjrtxNVeThP6t9xnDG1puQaG28DvJ2db+A=   13  30    male   \n17  /NFMlPP8FvyxVLHcSA4af/BfbRvGXwD+IYpZqVylb7I=    1   0   <UNK>   \n18  XeAoaR5gMiy74l4HUhHt10o36U7VevuMZOymd0EWqD0=    1   0   <UNK>   \n19  v8+kU3kqYo9P8kIcuLrliJ/57jCTZG75cXvyYdagbhU=    1   0   <UNK>   \n20  +QyD+0xRgzi2552jFOFk5FfDJsqfe5D6xmHpHf6J5Bk=    1   0   <UNK>   \n21  2g1ydVe2XxKPTMf2P9BhFfZOUC0Kteti8KyMr6iVaj0=    5  29    male   \n22  IptzXjBNx4yZaetmolc/moHn2SYT2oZM7SX9mGyMKDo=    1   0   <UNK>   \n23  v1/E8gN8p5TFweTX3HAc4mm31LxqP6c1ZGGJiKyCuH4=    1   0   <UNK>   \n24  ed0hCzvhKVxHMIodLtgkzb1G4ryiet50rO/GE3W3pEA=    1   0   <UNK>   \n25  tXcypQ/1TwiThcv2HfBhStBxDlza66KHCcbLAXFxey4=    1   0   <UNK>   \n26  KxIHfr086p8f8yKp1ZUJF4EsA7qfpPguo0bNG2PkQBA=    1   0   <UNK>   \n27  R01NRe7BNIWmterVXYzXQ82GZRu8rVHjRYyEpsIFxwQ=    1   0   <UNK>   \n28  ox62m0QICnrFa8/ZM5jJ5WBidWIieREUjUdCiWExLSU=    6  26  female   \n29  95tnnY+Zq8f4jpk5SaDWcmnngD9dFe/OwxAqhss6T8k=    4  25  female   \n30  Der2/cdVesg2+u1UZX/u11dZBM/FWtNl1TlKIK82puw=   11  21  female   \n31  SOanReUpXJH3UEwvJ6aTcTadeSydUVKfxTLMT+eMUug=    1   0   <UNK>   \n32  wuQ6XMUzOWAOoi+ucwMIa1/qKYpURWh1UJLwnuopyQ4=   18   0   <UNK>   \n33  gVhSsPpgPahjgc3otkuh5me02Tk9MFKkISphH5oKQVo=   15  22    male   \n34  H/6Rt7HmjNUxYmLAMQxAhzgXKy+m3QdkAxFEl6TraVg=   11  16  female   \n35  pXrqb5LRcKCG83LnFoa20jebHP4/gRnEvzq8Ik22jzY=    4   0   <UNK>   \n36  22Ki9N1ODFlJMiZaAi91MDO0R4eDL4AecAjKfGFWDwA=    1   0   <UNK>   \n37  UjuPJCQo/YoGVR/yJ+CocmWUk2czJE0BBKqaPpVYV64=   13  23  female   \n38  iOz2XV2LF6MiV+02PovZKeNFDk4+0hWf/QuyiGZ4cCI=    4  28    male   \n39  nbytZ3+EdbMM3Rk80k4v4g4t4HPbtUAmAIGXYw31mWc=   15  37    male   \n40  uRLetVA/REh7ndu0cxJk7MR39YSYzD6MBrBjeqztI0g=   13  18  female   \n41  0R55qOL5jJOFTZpGVIrbfTmRvUk+GGsZigvJt8/ugOI=    1   0   <UNK>   \n42  41MfJ7RfWrPiw9z3h/BNLiqki6fNWdza8iu2Ll+YXB0=    1   0   <UNK>   \n43  dqJBfV3kbGznStSZrsned5Ke8VMIeNnIfNbgtRkQAwQ=    1  19   <UNK>   \n44  U9wGSC/pB6SkX+3yKHDfJQyCnUYqvqeZYOCNbroOJf8=    5  28  female   \n45  AzWRtpW15SXyHSoc03ooyHYxZZlbc3jKgD5QswBS6Oo=    1   0   <UNK>   \n46  bwz+fTFHhvPVRy+sRq1DMVNEavtiyhxSVIzvHr6Il0Q=    5  51  female   \n47  pOldmrJFqYEBWupQVw1ZZaitWcM2vgzZtkSRC8A0MrU=    1   0   <UNK>   \n48  W3V5FZXYJx2PCUggs6sEav3IEt8qc7I3koerUmD5sN0=    1   0   <UNK>   \n49  WNfCAbvOG/RBNqVmDhv8VUKo4oo7Y74X0uidZW72JnU=   22  33    male   \n\n   registered_via  \n0               7  \n1               7  \n2               4  \n3               9  \n4               4  \n5               9  \n6               4  \n7               7  \n8               7  \n9               7  \n10              9  \n11              7  \n12              7  \n13              3  \n14              3  \n15              3  \n16              9  \n17              7  \n18              4  \n19              9  \n20              4  \n21              4  \n22              9  \n23              4  \n24              4  \n25              4  \n26              4  \n27              7  \n28              7  \n29              3  \n30              9  \n31              4  \n32              9  \n33              4  \n34              4  \n35              9  \n36              7  \n37              9  \n38              3  \n39              3  \n40              3  \n41              7  \n42              7  \n43              9  \n44              9  \n45              7  \n46              3  \n47              4  \n48              4  \n49              9  ",
      "text/html": "<div>\n<style scoped>\n    .dataframe tbody tr th:only-of-type {\n        vertical-align: middle;\n    }\n\n    .dataframe tbody tr th {\n        vertical-align: top;\n    }\n\n    .dataframe thead th {\n        text-align: right;\n    }\n</style>\n<table border=\"1\" class=\"dataframe\">\n  <thead>\n    <tr style=\"text-align: right;\">\n      <th></th>\n      <th>msno</th>\n      <th>city</th>\n      <th>bd</th>\n      <th>gender</th>\n      <th>registered_via</th>\n    </tr>\n  </thead>\n  <tbody>\n    <tr>\n      <th>0</th>\n      <td>XQxgAYj3klVKjR3oxPPXYYFp4soD4TuBghkhMTD4oTw=</td>\n      <td>1</td>\n      <td>0</td>\n      <td>&lt;UNK&gt;</td>\n      <td>7</td>\n    </tr>\n    <tr>\n      <th>1</th>\n      <td>UizsfmJb9mV54qE9hCYyU07Va97c0lCRLEQX3ae+ztM=</td>\n      <td>1</td>\n      <td>0</td>\n      <td>&lt;UNK&gt;</td>\n      <td>7</td>\n    </tr>\n    <tr>\n      <th>2</th>\n      <td>D8nEhsIOBSoE6VthTaqDX8U6lqjJ7dLdr72mOyLya2A=</td>\n      <td>1</td>\n      <td>0</td>\n      <td>&lt;UNK&gt;</td>\n      <td>4</td>\n    </tr>\n    <tr>\n      <th>3</th>\n      <td>mCuD+tZ1hERA/o5GPqk38e041J8ZsBaLcu7nGoIIvhI=</td>\n      <td>1</td>\n      <td>0</td>\n      <td>&lt;UNK&gt;</td>\n      <td>9</td>\n    </tr>\n    <tr>\n      <th>4</th>\n      <td>q4HRBfVSssAFS9iRfxWrohxuk9kCYMKjHOEagUMV6rQ=</td>\n      <td>1</td>\n      <td>0</td>\n      <td>&lt;UNK&gt;</td>\n      <td>4</td>\n    </tr>\n    <tr>\n      <th>5</th>\n      <td>zgPOEyUn5a/Fvuzb3m69ajzxjkbblVtObglW89FzLdo=</td>\n      <td>13</td>\n      <td>43</td>\n      <td>female</td>\n      <td>9</td>\n    </tr>\n    <tr>\n      <th>6</th>\n      <td>Sw9AT8QoR4wWiNUqHZUH6g5ahzGUx4lo1g+Y3xE2f2M=</td>\n      <td>1</td>\n      <td>0</td>\n      <td>&lt;UNK&gt;</td>\n      <td>4</td>\n    </tr>\n    <tr>\n      <th>7</th>\n      <td>pg6bT2XZkSP1TDBy4qn3HBPY/HffKQ/bg8WIISQYBSY=</td>\n      <td>1</td>\n      <td>0</td>\n      <td>&lt;UNK&gt;</td>\n      <td>7</td>\n    </tr>\n    <tr>\n      <th>8</th>\n      <td>kfk1AdTNH2dNqF5LzIs4e0vwGPejw2jrnFjJlcYnEgk=</td>\n      <td>1</td>\n      <td>0</td>\n      <td>&lt;UNK&gt;</td>\n      <td>7</td>\n    </tr>\n    <tr>\n      <th>9</th>\n      <td>tscijwx4dbEp0NXGl+iFtHJ8zrj+TkcMrduOQk9t+gE=</td>\n      <td>1</td>\n      <td>0</td>\n      <td>&lt;UNK&gt;</td>\n      <td>7</td>\n    </tr>\n    <tr>\n      <th>10</th>\n      <td>GoFYKhcq8Q5Gjz1M5L0azHZOhcY+Za/T7fRqIGgBuYA=</td>\n      <td>12</td>\n      <td>28</td>\n      <td>male</td>\n      <td>9</td>\n    </tr>\n    <tr>\n      <th>11</th>\n      <td>Hiw71XZQSoEe1I7pBhPWi3kIrP7Ss7pwExZgtqFmtYw=</td>\n      <td>1</td>\n      <td>0</td>\n      <td>&lt;UNK&gt;</td>\n      <td>7</td>\n    </tr>\n    <tr>\n      <th>12</th>\n      <td>V6QgFYHgsfZ2G6hFz1z2u3RrLt5BoLsZKBr+h0ZnFsA=</td>\n      <td>1</td>\n      <td>0</td>\n      <td>&lt;UNK&gt;</td>\n      <td>7</td>\n    </tr>\n    <tr>\n      <th>13</th>\n      <td>RoSfblbwJN/izEnFIVw8TgOpm8R/NEpUC84Oz/b32HQ=</td>\n      <td>15</td>\n      <td>33</td>\n      <td>female</td>\n      <td>3</td>\n    </tr>\n    <tr>\n      <th>14</th>\n      <td>N+dxmo1qvkKAlzYtcxGzjrqcpVyX9J7AMlXFuYASKuY=</td>\n      <td>1</td>\n      <td>0</td>\n      <td>&lt;UNK&gt;</td>\n      <td>3</td>\n    </tr>\n    <tr>\n      <th>15</th>\n      <td>vUzJAyFEudsnkWwfcLIKT5mJAV+uVRTW2uajCrghFwI=</td>\n      <td>13</td>\n      <td>20</td>\n      <td>male</td>\n      <td>3</td>\n    </tr>\n    <tr>\n      <th>16</th>\n      <td>Ev+ouoRTpAjrtxNVeThP6t9xnDG1puQaG28DvJ2db+A=</td>\n      <td>13</td>\n      <td>30</td>\n      <td>male</td>\n      <td>9</td>\n    </tr>\n    <tr>\n      <th>17</th>\n      <td>/NFMlPP8FvyxVLHcSA4af/BfbRvGXwD+IYpZqVylb7I=</td>\n      <td>1</td>\n      <td>0</td>\n      <td>&lt;UNK&gt;</td>\n      <td>7</td>\n    </tr>\n    <tr>\n      <th>18</th>\n      <td>XeAoaR5gMiy74l4HUhHt10o36U7VevuMZOymd0EWqD0=</td>\n      <td>1</td>\n      <td>0</td>\n      <td>&lt;UNK&gt;</td>\n      <td>4</td>\n    </tr>\n    <tr>\n      <th>19</th>\n      <td>v8+kU3kqYo9P8kIcuLrliJ/57jCTZG75cXvyYdagbhU=</td>\n      <td>1</td>\n      <td>0</td>\n      <td>&lt;UNK&gt;</td>\n      <td>9</td>\n    </tr>\n    <tr>\n      <th>20</th>\n      <td>+QyD+0xRgzi2552jFOFk5FfDJsqfe5D6xmHpHf6J5Bk=</td>\n      <td>1</td>\n      <td>0</td>\n      <td>&lt;UNK&gt;</td>\n      <td>4</td>\n    </tr>\n    <tr>\n      <th>21</th>\n      <td>2g1ydVe2XxKPTMf2P9BhFfZOUC0Kteti8KyMr6iVaj0=</td>\n      <td>5</td>\n      <td>29</td>\n      <td>male</td>\n      <td>4</td>\n    </tr>\n    <tr>\n      <th>22</th>\n      <td>IptzXjBNx4yZaetmolc/moHn2SYT2oZM7SX9mGyMKDo=</td>\n      <td>1</td>\n      <td>0</td>\n      <td>&lt;UNK&gt;</td>\n      <td>9</td>\n    </tr>\n    <tr>\n      <th>23</th>\n      <td>v1/E8gN8p5TFweTX3HAc4mm31LxqP6c1ZGGJiKyCuH4=</td>\n      <td>1</td>\n      <td>0</td>\n      <td>&lt;UNK&gt;</td>\n      <td>4</td>\n    </tr>\n    <tr>\n      <th>24</th>\n      <td>ed0hCzvhKVxHMIodLtgkzb1G4ryiet50rO/GE3W3pEA=</td>\n      <td>1</td>\n      <td>0</td>\n      <td>&lt;UNK&gt;</td>\n      <td>4</td>\n    </tr>\n    <tr>\n      <th>25</th>\n      <td>tXcypQ/1TwiThcv2HfBhStBxDlza66KHCcbLAXFxey4=</td>\n      <td>1</td>\n      <td>0</td>\n      <td>&lt;UNK&gt;</td>\n      <td>4</td>\n    </tr>\n    <tr>\n      <th>26</th>\n      <td>KxIHfr086p8f8yKp1ZUJF4EsA7qfpPguo0bNG2PkQBA=</td>\n      <td>1</td>\n      <td>0</td>\n      <td>&lt;UNK&gt;</td>\n      <td>4</td>\n    </tr>\n    <tr>\n      <th>27</th>\n      <td>R01NRe7BNIWmterVXYzXQ82GZRu8rVHjRYyEpsIFxwQ=</td>\n      <td>1</td>\n      <td>0</td>\n      <td>&lt;UNK&gt;</td>\n      <td>7</td>\n    </tr>\n    <tr>\n      <th>28</th>\n      <td>ox62m0QICnrFa8/ZM5jJ5WBidWIieREUjUdCiWExLSU=</td>\n      <td>6</td>\n      <td>26</td>\n      <td>female</td>\n      <td>7</td>\n    </tr>\n    <tr>\n      <th>29</th>\n      <td>95tnnY+Zq8f4jpk5SaDWcmnngD9dFe/OwxAqhss6T8k=</td>\n      <td>4</td>\n      <td>25</td>\n      <td>female</td>\n      <td>3</td>\n    </tr>\n    <tr>\n      <th>30</th>\n      <td>Der2/cdVesg2+u1UZX/u11dZBM/FWtNl1TlKIK82puw=</td>\n      <td>11</td>\n      <td>21</td>\n      <td>female</td>\n      <td>9</td>\n    </tr>\n    <tr>\n      <th>31</th>\n      <td>SOanReUpXJH3UEwvJ6aTcTadeSydUVKfxTLMT+eMUug=</td>\n      <td>1</td>\n      <td>0</td>\n      <td>&lt;UNK&gt;</td>\n      <td>4</td>\n    </tr>\n    <tr>\n      <th>32</th>\n      <td>wuQ6XMUzOWAOoi+ucwMIa1/qKYpURWh1UJLwnuopyQ4=</td>\n      <td>18</td>\n      <td>0</td>\n      <td>&lt;UNK&gt;</td>\n      <td>9</td>\n    </tr>\n    <tr>\n      <th>33</th>\n      <td>gVhSsPpgPahjgc3otkuh5me02Tk9MFKkISphH5oKQVo=</td>\n      <td>15</td>\n      <td>22</td>\n      <td>male</td>\n      <td>4</td>\n    </tr>\n    <tr>\n      <th>34</th>\n      <td>H/6Rt7HmjNUxYmLAMQxAhzgXKy+m3QdkAxFEl6TraVg=</td>\n      <td>11</td>\n      <td>16</td>\n      <td>female</td>\n      <td>4</td>\n    </tr>\n    <tr>\n      <th>35</th>\n      <td>pXrqb5LRcKCG83LnFoa20jebHP4/gRnEvzq8Ik22jzY=</td>\n      <td>4</td>\n      <td>0</td>\n      <td>&lt;UNK&gt;</td>\n      <td>9</td>\n    </tr>\n    <tr>\n      <th>36</th>\n      <td>22Ki9N1ODFlJMiZaAi91MDO0R4eDL4AecAjKfGFWDwA=</td>\n      <td>1</td>\n      <td>0</td>\n      <td>&lt;UNK&gt;</td>\n      <td>7</td>\n    </tr>\n    <tr>\n      <th>37</th>\n      <td>UjuPJCQo/YoGVR/yJ+CocmWUk2czJE0BBKqaPpVYV64=</td>\n      <td>13</td>\n      <td>23</td>\n      <td>female</td>\n      <td>9</td>\n    </tr>\n    <tr>\n      <th>38</th>\n      <td>iOz2XV2LF6MiV+02PovZKeNFDk4+0hWf/QuyiGZ4cCI=</td>\n      <td>4</td>\n      <td>28</td>\n      <td>male</td>\n      <td>3</td>\n    </tr>\n    <tr>\n      <th>39</th>\n      <td>nbytZ3+EdbMM3Rk80k4v4g4t4HPbtUAmAIGXYw31mWc=</td>\n      <td>15</td>\n      <td>37</td>\n      <td>male</td>\n      <td>3</td>\n    </tr>\n    <tr>\n      <th>40</th>\n      <td>uRLetVA/REh7ndu0cxJk7MR39YSYzD6MBrBjeqztI0g=</td>\n      <td>13</td>\n      <td>18</td>\n      <td>female</td>\n      <td>3</td>\n    </tr>\n    <tr>\n      <th>41</th>\n      <td>0R55qOL5jJOFTZpGVIrbfTmRvUk+GGsZigvJt8/ugOI=</td>\n      <td>1</td>\n      <td>0</td>\n      <td>&lt;UNK&gt;</td>\n      <td>7</td>\n    </tr>\n    <tr>\n      <th>42</th>\n      <td>41MfJ7RfWrPiw9z3h/BNLiqki6fNWdza8iu2Ll+YXB0=</td>\n      <td>1</td>\n      <td>0</td>\n      <td>&lt;UNK&gt;</td>\n      <td>7</td>\n    </tr>\n    <tr>\n      <th>43</th>\n      <td>dqJBfV3kbGznStSZrsned5Ke8VMIeNnIfNbgtRkQAwQ=</td>\n      <td>1</td>\n      <td>19</td>\n      <td>&lt;UNK&gt;</td>\n      <td>9</td>\n    </tr>\n    <tr>\n      <th>44</th>\n      <td>U9wGSC/pB6SkX+3yKHDfJQyCnUYqvqeZYOCNbroOJf8=</td>\n      <td>5</td>\n      <td>28</td>\n      <td>female</td>\n      <td>9</td>\n    </tr>\n    <tr>\n      <th>45</th>\n      <td>AzWRtpW15SXyHSoc03ooyHYxZZlbc3jKgD5QswBS6Oo=</td>\n      <td>1</td>\n      <td>0</td>\n      <td>&lt;UNK&gt;</td>\n      <td>7</td>\n    </tr>\n    <tr>\n      <th>46</th>\n      <td>bwz+fTFHhvPVRy+sRq1DMVNEavtiyhxSVIzvHr6Il0Q=</td>\n      <td>5</td>\n      <td>51</td>\n      <td>female</td>\n      <td>3</td>\n    </tr>\n    <tr>\n      <th>47</th>\n      <td>pOldmrJFqYEBWupQVw1ZZaitWcM2vgzZtkSRC8A0MrU=</td>\n      <td>1</td>\n      <td>0</td>\n      <td>&lt;UNK&gt;</td>\n      <td>4</td>\n    </tr>\n    <tr>\n      <th>48</th>\n      <td>W3V5FZXYJx2PCUggs6sEav3IEt8qc7I3koerUmD5sN0=</td>\n      <td>1</td>\n      <td>0</td>\n      <td>&lt;UNK&gt;</td>\n      <td>4</td>\n    </tr>\n    <tr>\n      <th>49</th>\n      <td>WNfCAbvOG/RBNqVmDhv8VUKo4oo7Y74X0uidZW72JnU=</td>\n      <td>22</td>\n      <td>33</td>\n      <td>male</td>\n      <td>9</td>\n    </tr>\n  </tbody>\n</table>\n</div>"
     },
     "execution_count": 16,
     "metadata": {},
     "output_type": "execute_result"
    }
   ],
   "source": [
    "members_df.drop(['registration_init_time', 'expiration_date'], axis=1, inplace=True)\n",
    "members_df.head(50)"
   ],
   "metadata": {
    "collapsed": false,
    "pycharm": {
     "name": "#%%\n"
    }
   }
  },
  {
   "cell_type": "code",
   "execution_count": 17,
   "outputs": [
    {
     "data": {
      "text/plain": "msno              category\ncity              category\nbd                   uint8\ngender            category\nregistered_via    category\ndtype: object"
     },
     "execution_count": 17,
     "metadata": {},
     "output_type": "execute_result"
    }
   ],
   "source": [
    "members_df.dtypes"
   ],
   "metadata": {
    "collapsed": false,
    "pycharm": {
     "name": "#%%\n"
    }
   }
  },
  {
   "cell_type": "code",
   "execution_count": 18,
   "outputs": [],
   "source": [
    "songs_df = songs_df.merge(song_extra_info_df, on=\"song_id\", how=\"left\")\n",
    "train_df = train_df.merge(songs_df, on=\"song_id\", how=\"left\")\n",
    "train_df = train_df.merge(members_df, on=\"msno\", how=\"left\")"
   ],
   "metadata": {
    "collapsed": false,
    "pycharm": {
     "name": "#%%\n"
    }
   }
  },
  {
   "cell_type": "code",
   "execution_count": 19,
   "outputs": [],
   "source": [
    "for col in ['msno', 'song_id']:\n",
    "    train_df[col] = train_df[col].astype('category')"
   ],
   "metadata": {
    "collapsed": false,
    "pycharm": {
     "name": "#%%\n"
    }
   }
  },
  {
   "cell_type": "code",
   "execution_count": 20,
   "outputs": [
    {
     "data": {
      "text/plain": "msno                  category\nsong_id               category\nsource_system_tab     category\nsource_screen_name    category\nsource_type           category\ntarget                   uint8\nsong_length            float64\ngenre_ids             category\nartist_name           category\ncomposer              category\nlyricist              category\nlanguage              category\nsong_year             category\nsong_country          category\ncity                  category\nbd                       uint8\ngender                category\nregistered_via        category\ndtype: object"
     },
     "execution_count": 20,
     "metadata": {},
     "output_type": "execute_result"
    }
   ],
   "source": [
    "train_df.dtypes"
   ],
   "metadata": {
    "collapsed": false,
    "pycharm": {
     "name": "#%%\n"
    }
   }
  },
  {
   "cell_type": "markdown",
   "source": [
    "1"
   ],
   "metadata": {
    "collapsed": false,
    "pycharm": {
     "name": "#%% md\n"
    }
   }
  },
  {
   "cell_type": "code",
   "execution_count": 21,
   "outputs": [
    {
     "name": "stdout",
     "output_type": "stream",
     "text": [
      "1605\n"
     ]
    }
   ],
   "source": [
    "na_mask = train_df.isna().any(1)\n",
    "print(na_mask.sum())"
   ],
   "metadata": {
    "collapsed": false,
    "pycharm": {
     "name": "#%%\n"
    }
   }
  },
  {
   "cell_type": "code",
   "execution_count": 22,
   "outputs": [],
   "source": [
    "train_df = train_df[~na_mask]"
   ],
   "metadata": {
    "collapsed": false,
    "pycharm": {
     "name": "#%%\n"
    }
   }
  },
  {
   "cell_type": "code",
   "execution_count": 23,
   "outputs": [],
   "source": [
    "train_df = train_df.groupby('msno').head(1023).reset_index(drop=True)"
   ],
   "metadata": {
    "collapsed": false,
    "pycharm": {
     "name": "#%%\n"
    }
   }
  },
  {
   "cell_type": "code",
   "execution_count": 24,
   "outputs": [],
   "source": [
    "train_df.sort_values('msno', kind='stable', inplace=True)\n"
   ],
   "metadata": {
    "collapsed": false,
    "pycharm": {
     "name": "#%%\n"
    }
   }
  },
  {
   "cell_type": "markdown",
   "source": [
    "Metrics"
   ],
   "metadata": {
    "collapsed": false
   }
  },
  {
   "cell_type": "code",
   "execution_count": 25,
   "outputs": [],
   "source": [
    "from sklearn.metrics import roc_auc_score"
   ],
   "metadata": {
    "collapsed": false,
    "pycharm": {
     "name": "#%%\n"
    }
   }
  },
  {
   "cell_type": "code",
   "execution_count": 26,
   "outputs": [],
   "source": [
    "def dcg(score, relevance):\n",
    "    idx = np.argsort(-score)\n",
    "    return np.sum(relevance[idx] / np.log2(1 + np.arange(1, len(score) + 1)))\n",
    "\n",
    "def idcg(score, relevance):\n",
    "    n = len(score)\n",
    "    return np.sum(-np.sort(-relevance) / np.log2(1 + np.arange(1, n + 1)))\n",
    "\n",
    "def ndcg(query, score, relevance):\n",
    "    query_labels = np.unique(query)\n",
    "\n",
    "    ndcgs = []\n",
    "    for label in query_labels:\n",
    "        mask = label == query\n",
    "\n",
    "        q_dcg = dcg(score[mask], relevance[mask])\n",
    "        q_idcg = idcg(score[mask], relevance[mask])\n",
    "\n",
    "        if q_idcg > 0:\n",
    "            ndcgs.append(q_dcg / q_idcg)\n",
    "\n",
    "    return np.mean(ndcgs)\n",
    "\n",
    "def auc(query, score, relevance):\n",
    "    query_labels = np.unique(query)\n",
    "\n",
    "    aucs = []\n",
    "    for label in query_labels:\n",
    "        mask = label == query\n",
    "        try:\n",
    "            auc = roc_auc_score(relevance[mask], score[mask])\n",
    "            aucs.append(auc)\n",
    "        except:\n",
    "            pass\n",
    "\n",
    "    return np.mean(aucs)"
   ],
   "metadata": {
    "collapsed": false,
    "pycharm": {
     "name": "#%%\n"
    }
   }
  },
  {
   "cell_type": "markdown",
   "source": [
    "CatBoost"
   ],
   "metadata": {
    "collapsed": false
   }
  },
  {
   "cell_type": "markdown",
   "source": [],
   "metadata": {
    "collapsed": false
   }
  },
  {
   "cell_type": "code",
   "execution_count": 27,
   "outputs": [],
   "source": [
    "from catboost import CatBoostRanker, Pool\n",
    "from sklearn.model_selection import GroupKFold, train_test_split"
   ],
   "metadata": {
    "collapsed": false,
    "pycharm": {
     "name": "#%%\n"
    }
   }
  },
  {
   "cell_type": "code",
   "execution_count": 28,
   "outputs": [],
   "source": [
    "def to_pool(df):\n",
    "    X = df.drop(columns=['target', 'song_id', 'msno'], axis=1)\n",
    "    y = df.target.to_numpy()\n",
    "    q = df.msno.cat.codes.to_numpy()\n",
    "    cat_features = X.select_dtypes(['category']).columns.to_numpy()\n",
    "    return Pool(data=X, label=y, group_id=q, cat_features=cat_features, has_header=True)"
   ],
   "metadata": {
    "collapsed": false,
    "pycharm": {
     "name": "#%%\n"
    }
   }
  },
  {
   "cell_type": "code",
   "execution_count": 29,
   "outputs": [],
   "source": [
    "class CatBoostModel:\n",
    "    def __init__(self, loss_function, iterations, task_type=None, random_seed=727272):\n",
    "        self.model = CatBoostRanker(loss_function=loss_function, iterations=iterations, task_type=task_type, random_seed=random_seed)\n",
    "\n",
    "    def fit(self, df):\n",
    "        self.model.fit(to_pool(df))\n",
    "        return self\n",
    "\n",
    "    def predict(self,df):\n",
    "        return self.model.predict(to_pool(df))\n",
    "\n",
    "    def save_scores(self, df):\n",
    "        metrics = {\"NDCG\": [], \"ROC_AUC\": []}\n",
    "\n",
    "        group_kfold = GroupKFold(n_splits=5)\n",
    "        X = df.drop(columns=['target', 'song_id', 'msno'], axis=1)\n",
    "        q = df.msno.cat.codes.to_numpy()\n",
    "        for train_index, test_index in group_kfold.split(X, groups=q):\n",
    "            train_df = df.iloc[sorted(train_index)].reset_index(drop=True)\n",
    "            test_df = df.iloc[sorted(test_index)].reset_index(drop=True)\n",
    "\n",
    "            self.fit(train_df)\n",
    "\n",
    "            score = self.predict(test_df)\n",
    "            query = test_df.msno.cat.codes.to_numpy()\n",
    "            label = test_df.target.to_numpy()\n",
    "\n",
    "            metrics['NDCG'].append(ndcg(query, score, label))\n",
    "            metrics['ROC_AUC'].append(auc(query, score, label))\n",
    "\n",
    "        return metrics\n"
   ],
   "metadata": {
    "collapsed": false,
    "pycharm": {
     "name": "#%%\n"
    }
   }
  },
  {
   "cell_type": "code",
   "execution_count": null,
   "outputs": [
    {
     "name": "stderr",
     "output_type": "stream",
     "text": [
      "/home/artosim/anaconda3/envs/HSE/lib/python3.7/site-packages/sklearn/model_selection/_split.py:102: DeprecationWarning: `np.bool` is a deprecated alias for the builtin `bool`. To silence this warning, use `bool` by itself. Doing this will not modify any behavior and is safe. If you specifically wanted the numpy scalar type, use `np.bool_` here.\n",
      "Deprecated in NumPy 1.20; for more details and guidance: https://numpy.org/devdocs/release/1.20.0-notes.html#deprecations\n",
      "  test_mask = np.zeros(_num_samples(X), dtype=np.bool)\n"
     ]
    },
    {
     "name": "stdout",
     "output_type": "stream",
     "text": [
      "Groupwise loss function. OneHotMaxSize set to 10\n"
     ]
    },
    {
     "name": "stderr",
     "output_type": "stream",
     "text": [
      "Metric PFound is not implemented on GPU. Will use CPU for metric computation, this could significantly affect learning time\n",
      "Metric PFound is not implemented on GPU. Will use CPU for metric computation, this could significantly affect learning time\n"
     ]
    },
    {
     "name": "stdout",
     "output_type": "stream",
     "text": [
      "0:\ttotal: 8.99s\tremaining: 22m 19s\n",
      "1:\ttotal: 17.9s\tremaining: 22m 3s\n",
      "2:\ttotal: 27s\tremaining: 22m 2s\n",
      "3:\ttotal: 36s\tremaining: 21m 53s\n",
      "4:\ttotal: 45s\tremaining: 21m 46s\n",
      "5:\ttotal: 55.7s\tremaining: 22m 16s\n",
      "6:\ttotal: 1m 4s\tremaining: 22m\n",
      "7:\ttotal: 1m 15s\tremaining: 22m 18s\n",
      "8:\ttotal: 1m 24s\tremaining: 22m 1s\n",
      "9:\ttotal: 1m 33s\tremaining: 21m 46s\n",
      "10:\ttotal: 1m 44s\tremaining: 21m 55s\n"
     ]
    }
   ],
   "source": [
    "model = CatBoostModel('YetiRank', 150, 'GPU')\n",
    "scores = model.save_scores(train_df)"
   ],
   "metadata": {
    "collapsed": false,
    "pycharm": {
     "name": "#%%\n",
     "is_executing": true
    }
   }
  },
  {
   "cell_type": "code",
   "execution_count": null,
   "outputs": [],
   "source": [
    "print(f\"Average NDCG: {np.mean(scores['NDCG']):.4f}\")\n",
    "print(f\"Average ROC AUC per user: {np.mean(scores['ROC_AUC']):.4f}\")"
   ],
   "metadata": {
    "collapsed": false,
    "pycharm": {
     "name": "#%%\n"
    }
   }
  },
  {
   "cell_type": "code",
   "execution_count": 26,
   "outputs": [],
   "source": [
    "# X = train_df.drop(columns=['target', 'song_id', 'msno'], axis=1)\n",
    "# y = train_df.target.to_numpy()\n",
    "# q = train_df.msno.cat.codes.to_numpy()\n",
    "# cat_features = X.select_dtypes(['category']).columns.to_numpy()"
   ],
   "metadata": {
    "collapsed": false,
    "pycharm": {
     "name": "#%%\n"
    }
   }
  },
  {
   "cell_type": "code",
   "execution_count": 31,
   "outputs": [],
   "source": [
    "# parameters = {\n",
    "#     'loss_function': 'YetiRank',\n",
    "#     'iterations': 150,\n",
    "#     'custom_metric': ['NDCG', 'QueryAUC:type=Ranking'],\n",
    "#     'random_seed': 0,\n",
    "# }"
   ],
   "metadata": {
    "collapsed": false,
    "pycharm": {
     "name": "#%%\n"
    }
   }
  },
  {
   "cell_type": "code",
   "execution_count": 32,
   "outputs": [
    {
     "name": "stderr",
     "output_type": "stream",
     "text": [
      "/home/artosim/anaconda3/envs/HSE/lib/python3.7/site-packages/sklearn/model_selection/_split.py:102: DeprecationWarning: `np.bool` is a deprecated alias for the builtin `bool`. To silence this warning, use `bool` by itself. Doing this will not modify any behavior and is safe. If you specifically wanted the numpy scalar type, use `np.bool_` here.\n",
      "Deprecated in NumPy 1.20; for more details and guidance: https://numpy.org/devdocs/release/1.20.0-notes.html#deprecations\n",
      "  test_mask = np.zeros(_num_samples(X), dtype=np.bool)\n"
     ]
    },
    {
     "name": "stdout",
     "output_type": "stream",
     "text": [
      "Groupwise loss function. OneHotMaxSize set to 10\n",
      "0:\ttest: 0.4403550\tbest: 0.4403550 (0)\ttotal: 47.8s\tremaining: 1h 58m 46s\n",
      "1:\ttest: 0.4418691\tbest: 0.4418691 (1)\ttotal: 1m 35s\tremaining: 1h 58m 22s\n",
      "2:\ttest: 0.4412057\tbest: 0.4418691 (1)\ttotal: 2m 23s\tremaining: 1h 57m 5s\n",
      "3:\ttest: 0.4411647\tbest: 0.4418691 (1)\ttotal: 3m 11s\tremaining: 1h 56m 22s\n",
      "4:\ttest: 0.4411581\tbest: 0.4418691 (1)\ttotal: 3m 57s\tremaining: 1h 54m 42s\n",
      "5:\ttest: 0.4432833\tbest: 0.4432833 (5)\ttotal: 4m 42s\tremaining: 1h 53m 3s\n"
     ]
    },
    {
     "ename": "KeyboardInterrupt",
     "evalue": "",
     "output_type": "error",
     "traceback": [
      "\u001B[0;31m---------------------------------------------------------------------------\u001B[0m",
      "\u001B[0;31mKeyboardInterrupt\u001B[0m                         Traceback (most recent call last)",
      "\u001B[0;32m/tmp/ipykernel_288408/527451039.py\u001B[0m in \u001B[0;36m<module>\u001B[0;34m\u001B[0m\n\u001B[1;32m     14\u001B[0m \u001B[0;34m\u001B[0m\u001B[0m\n\u001B[1;32m     15\u001B[0m     \u001B[0mmodel\u001B[0m \u001B[0;34m=\u001B[0m \u001B[0mCatBoostRanker\u001B[0m\u001B[0;34m(\u001B[0m\u001B[0;34m**\u001B[0m\u001B[0mparameters\u001B[0m\u001B[0;34m)\u001B[0m\u001B[0;34m\u001B[0m\u001B[0m\n\u001B[0;32m---> 16\u001B[0;31m     \u001B[0mmodel\u001B[0m\u001B[0;34m.\u001B[0m\u001B[0mfit\u001B[0m\u001B[0;34m(\u001B[0m\u001B[0mpool_train\u001B[0m\u001B[0;34m,\u001B[0m \u001B[0meval_set\u001B[0m\u001B[0;34m=\u001B[0m\u001B[0mpool_val\u001B[0m\u001B[0;34m)\u001B[0m\u001B[0;34m\u001B[0m\u001B[0m\n\u001B[0m\u001B[1;32m     17\u001B[0m \u001B[0;34m\u001B[0m\u001B[0m\n\u001B[1;32m     18\u001B[0m     \u001B[0mscores\u001B[0m\u001B[0;34m.\u001B[0m\u001B[0mappend\u001B[0m\u001B[0;34m(\u001B[0m\u001B[0mmodel\u001B[0m\u001B[0;34m.\u001B[0m\u001B[0mget_evals_result\u001B[0m\u001B[0;34m(\u001B[0m\u001B[0;34m)\u001B[0m\u001B[0;34m)\u001B[0m\u001B[0;34m\u001B[0m\u001B[0m\n",
      "\u001B[0;32m~/anaconda3/envs/HSE/lib/python3.7/site-packages/catboost/core.py\u001B[0m in \u001B[0;36mfit\u001B[0;34m(self, X, y, group_id, cat_features, text_features, embedding_features, pairs, sample_weight, group_weight, subgroup_id, pairs_weight, baseline, use_best_model, eval_set, verbose, logging_level, plot, column_description, verbose_eval, metric_period, silent, early_stopping_rounds, save_snapshot, snapshot_file, snapshot_interval, init_model, callbacks, log_cout, log_cerr)\u001B[0m\n\u001B[1;32m   5646\u001B[0m                   \u001B[0msample_weight\u001B[0m\u001B[0;34m,\u001B[0m \u001B[0mgroup_id\u001B[0m\u001B[0;34m,\u001B[0m \u001B[0mgroup_weight\u001B[0m\u001B[0;34m,\u001B[0m \u001B[0msubgroup_id\u001B[0m\u001B[0;34m,\u001B[0m \u001B[0mpairs_weight\u001B[0m\u001B[0;34m,\u001B[0m \u001B[0mbaseline\u001B[0m\u001B[0;34m,\u001B[0m \u001B[0muse_best_model\u001B[0m\u001B[0;34m,\u001B[0m\u001B[0;34m\u001B[0m\u001B[0m\n\u001B[1;32m   5647\u001B[0m                   \u001B[0meval_set\u001B[0m\u001B[0;34m,\u001B[0m \u001B[0mverbose\u001B[0m\u001B[0;34m,\u001B[0m \u001B[0mlogging_level\u001B[0m\u001B[0;34m,\u001B[0m \u001B[0mplot\u001B[0m\u001B[0;34m,\u001B[0m \u001B[0mcolumn_description\u001B[0m\u001B[0;34m,\u001B[0m \u001B[0mverbose_eval\u001B[0m\u001B[0;34m,\u001B[0m \u001B[0mmetric_period\u001B[0m\u001B[0;34m,\u001B[0m\u001B[0;34m\u001B[0m\u001B[0m\n\u001B[0;32m-> 5648\u001B[0;31m                   silent, early_stopping_rounds, save_snapshot, snapshot_file, snapshot_interval, init_model, callbacks, log_cout, log_cerr)\n\u001B[0m\u001B[1;32m   5649\u001B[0m         \u001B[0;32mreturn\u001B[0m \u001B[0mself\u001B[0m\u001B[0;34m\u001B[0m\u001B[0m\n\u001B[1;32m   5650\u001B[0m \u001B[0;34m\u001B[0m\u001B[0m\n",
      "\u001B[0;32m~/anaconda3/envs/HSE/lib/python3.7/site-packages/catboost/core.py\u001B[0m in \u001B[0;36m_fit\u001B[0;34m(self, X, y, cat_features, text_features, embedding_features, pairs, sample_weight, group_id, group_weight, subgroup_id, pairs_weight, baseline, use_best_model, eval_set, verbose, logging_level, plot, column_description, verbose_eval, metric_period, silent, early_stopping_rounds, save_snapshot, snapshot_file, snapshot_interval, init_model, callbacks, log_cout, log_cerr)\u001B[0m\n\u001B[1;32m   2000\u001B[0m                 \u001B[0mparams\u001B[0m\u001B[0;34m,\u001B[0m\u001B[0;34m\u001B[0m\u001B[0m\n\u001B[1;32m   2001\u001B[0m                 \u001B[0mallow_clear_pool\u001B[0m\u001B[0;34m,\u001B[0m\u001B[0;34m\u001B[0m\u001B[0m\n\u001B[0;32m-> 2002\u001B[0;31m                 \u001B[0mtrain_params\u001B[0m\u001B[0;34m[\u001B[0m\u001B[0;34m\"init_model\"\u001B[0m\u001B[0;34m]\u001B[0m\u001B[0;34m\u001B[0m\u001B[0m\n\u001B[0m\u001B[1;32m   2003\u001B[0m             )\n\u001B[1;32m   2004\u001B[0m \u001B[0;34m\u001B[0m\u001B[0m\n",
      "\u001B[0;32m~/anaconda3/envs/HSE/lib/python3.7/site-packages/catboost/core.py\u001B[0m in \u001B[0;36m_train\u001B[0;34m(self, train_pool, test_pool, params, allow_clear_pool, init_model)\u001B[0m\n\u001B[1;32m   1426\u001B[0m \u001B[0;34m\u001B[0m\u001B[0m\n\u001B[1;32m   1427\u001B[0m     \u001B[0;32mdef\u001B[0m \u001B[0m_train\u001B[0m\u001B[0;34m(\u001B[0m\u001B[0mself\u001B[0m\u001B[0;34m,\u001B[0m \u001B[0mtrain_pool\u001B[0m\u001B[0;34m,\u001B[0m \u001B[0mtest_pool\u001B[0m\u001B[0;34m,\u001B[0m \u001B[0mparams\u001B[0m\u001B[0;34m,\u001B[0m \u001B[0mallow_clear_pool\u001B[0m\u001B[0;34m,\u001B[0m \u001B[0minit_model\u001B[0m\u001B[0;34m)\u001B[0m\u001B[0;34m:\u001B[0m\u001B[0;34m\u001B[0m\u001B[0m\n\u001B[0;32m-> 1428\u001B[0;31m         \u001B[0mself\u001B[0m\u001B[0;34m.\u001B[0m\u001B[0m_object\u001B[0m\u001B[0;34m.\u001B[0m\u001B[0m_train\u001B[0m\u001B[0;34m(\u001B[0m\u001B[0mtrain_pool\u001B[0m\u001B[0;34m,\u001B[0m \u001B[0mtest_pool\u001B[0m\u001B[0;34m,\u001B[0m \u001B[0mparams\u001B[0m\u001B[0;34m,\u001B[0m \u001B[0mallow_clear_pool\u001B[0m\u001B[0;34m,\u001B[0m \u001B[0minit_model\u001B[0m\u001B[0;34m.\u001B[0m\u001B[0m_object\u001B[0m \u001B[0;32mif\u001B[0m \u001B[0minit_model\u001B[0m \u001B[0;32melse\u001B[0m \u001B[0;32mNone\u001B[0m\u001B[0;34m)\u001B[0m\u001B[0;34m\u001B[0m\u001B[0m\n\u001B[0m\u001B[1;32m   1429\u001B[0m         \u001B[0mself\u001B[0m\u001B[0;34m.\u001B[0m\u001B[0m_set_trained_model_attributes\u001B[0m\u001B[0;34m(\u001B[0m\u001B[0;34m)\u001B[0m\u001B[0;34m\u001B[0m\u001B[0m\n\u001B[1;32m   1430\u001B[0m \u001B[0;34m\u001B[0m\u001B[0m\n",
      "\u001B[0;32m_catboost.pyx\u001B[0m in \u001B[0;36m_catboost._CatBoost._train\u001B[0;34m()\u001B[0m\n",
      "\u001B[0;32m_catboost.pyx\u001B[0m in \u001B[0;36m_catboost._CatBoost._train\u001B[0;34m()\u001B[0m\n",
      "\u001B[0;31mKeyboardInterrupt\u001B[0m: "
     ]
    }
   ],
   "source": [
    "# scores = []\n",
    "# for train_idx, val_idx in GroupKFold(n_splits=5).split(X, y, q):\n",
    "#     X_train = X.iloc[train_idx]\n",
    "#     y_train = y[train_idx]\n",
    "#\n",
    "#     X_val = X.iloc[val_idx]\n",
    "#     y_val = y[val_idx]\n",
    "#\n",
    "#     q_train = q[train_idx]\n",
    "#     q_val = q[val_idx]\n",
    "#\n",
    "#     pool_train = Pool(data=X_train, label=y_train, group_id=q_train, cat_features=cat_features, has_header=True)\n",
    "#     pool_val = Pool(data=X_val, label=y_val, group_id=q_val, cat_features=cat_features, has_header=True)\n",
    "#\n",
    "#     model = CatBoostRanker(**parameters)\n",
    "#     model.fit(pool_train, eval_set=pool_val)\n",
    "#\n",
    "#     scores.append(model.get_evals_result())"
   ],
   "metadata": {
    "collapsed": false,
    "pycharm": {
     "name": "#%%\n"
    }
   }
  },
  {
   "cell_type": "code",
   "execution_count": null,
   "outputs": [],
   "source": [],
   "metadata": {
    "collapsed": false,
    "pycharm": {
     "name": "#%%\n"
    }
   }
  }
 ],
 "metadata": {
  "kernelspec": {
   "display_name": "Python 3",
   "language": "python",
   "name": "python3"
  },
  "language_info": {
   "codemirror_mode": {
    "name": "ipython",
    "version": 2
   },
   "file_extension": ".py",
   "mimetype": "text/x-python",
   "name": "python",
   "nbconvert_exporter": "python",
   "pygments_lexer": "ipython2",
   "version": "2.7.6"
  }
 },
 "nbformat": 4,
 "nbformat_minor": 0
}